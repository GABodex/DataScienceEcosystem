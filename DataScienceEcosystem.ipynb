{
 "cells": [
  {
   "cell_type": "code",
   "execution_count": 1,
   "id": "a9403a3f-2a90-4a01-ab48-2adc17a8b390",
   "metadata": {},
   "outputs": [],
   "source": [
    "# Data Science Tools and Ecosystem"
   ]
  },
  {
   "cell_type": "code",
   "execution_count": 3,
   "id": "1e9bf919-20d5-4ef2-947d-3605f4c73f15",
   "metadata": {},
   "outputs": [],
   "source": [
    "En este cuaderno, se resumen las herramientas y ecosistemas de ciencia de datos."
   ]
  },
  {
   "cell_type": "code",
   "execution_count": null,
   "id": "1ca51f40-c37f-4c3d-91c2-b8ce94706c86",
   "metadata": {},
   "outputs": [],
   "source": [
    "Algunos de los lenguajes populares que utilizan los científicos de datos son:\n",
    "\n",
    "1. Python  \n",
    "2. R  \n",
    "3. SQL  \n",
    "4. Julia  \n",
    "5. Scala\n"
   ]
  },
  {
   "cell_type": "code",
   "execution_count": null,
   "id": "9f5099df-29e2-447e-b1be-18cd4622ceff",
   "metadata": {},
   "outputs": [],
   "source": [
    "Algunas de las bibliotecas comúnmente utilizadas por los científicos de datos incluyen:\n",
    "\n",
    "1. Pandas  \n",
    "2. NumPy  \n",
    "3. Matplotlib  \n",
    "4. Scikit-learn  \n",
    "5. TensorFlow\n"
   ]
  },
  {
   "cell_type": "code",
   "execution_count": null,
   "id": "b1e36541-cb37-4639-9e82-749f703ab072",
   "metadata": {},
   "outputs": [],
   "source": [
    "| Herramientas de Ciencia de Datos       |\n",
    "|----------------------------------------|\n",
    "| Jupyter Notebook                       |\n",
    "| RStudio                                |\n",
    "| Apache Zeppelin                        |\n"
   ]
  },
  {
   "cell_type": "code",
   "execution_count": null,
   "id": "9335f619-ca11-43a2-9013-590c13cfcbe6",
   "metadata": {},
   "outputs": [],
   "source": [
    "### A continuación, se presentan algunos ejemplos de evaluación de expresiones aritméticas en Python.\n"
   ]
  },
  {
   "cell_type": "code",
   "execution_count": 7,
   "id": "dbffea79-0950-47c3-b019-37f05f722049",
   "metadata": {},
   "outputs": [
    {
     "data": {
      "text/plain": [
       "17"
      ]
     },
     "execution_count": 7,
     "metadata": {},
     "output_type": "execute_result"
    }
   ],
   "source": [
    "# Esta es una expresión aritmética simple para multiplicar y luego sumar enteros\n",
    "result = (3 * 4) + 5\n",
    "result\n"
   ]
  },
  {
   "cell_type": "code",
   "execution_count": 8,
   "id": "3bd2cb7e-56ba-4c16-b825-218882cf19a8",
   "metadata": {},
   "outputs": [
    {
     "data": {
      "text/plain": [
       "3.3333333333333335"
      ]
     },
     "execution_count": 8,
     "metadata": {},
     "output_type": "execute_result"
    }
   ],
   "source": [
    "# Esto convertirá 200 minutos a horas dividiendo por 60\n",
    "minutes = 200\n",
    "hours = minutes / 60\n",
    "hours\n"
   ]
  },
  {
   "cell_type": "code",
   "execution_count": null,
   "id": "51948b48-fefc-4c9b-a12a-0a96defaf070",
   "metadata": {},
   "outputs": [],
   "source": [
    "**Objetivos:**\n",
    "\n",
    "- Listar lenguajes populares para Ciencia de Datos.\n",
    "- Identificar bibliotecas comúnmente utilizadas en Ciencia de Datos.\n",
    "- Conocer herramientas populares en el entorno de desarrollo de Ciencia de Datos.\n",
    "- Realizar operaciones aritméticas simples en Python.\n"
   ]
  },
  {
   "cell_type": "code",
   "execution_count": null,
   "id": "1af10370-4582-49c7-a7ef-ef3b5f2b9aeb",
   "metadata": {},
   "outputs": [],
   "source": [
    "## Gabriel Alexander Dextre Gomez"
   ]
  },
  {
   "cell_type": "markdown",
   "id": "61a207bb-b87b-4068-8534-34f3fd6216b3",
   "metadata": {},
   "source": []
  }
 ],
 "metadata": {
  "kernelspec": {
   "display_name": "Python 3 (ipykernel)",
   "language": "python",
   "name": "python3"
  },
  "language_info": {
   "codemirror_mode": {
    "name": "ipython",
    "version": 3
   },
   "file_extension": ".py",
   "mimetype": "text/x-python",
   "name": "python",
   "nbconvert_exporter": "python",
   "pygments_lexer": "ipython3",
   "version": "3.12.8"
  }
 },
 "nbformat": 4,
 "nbformat_minor": 5
}
